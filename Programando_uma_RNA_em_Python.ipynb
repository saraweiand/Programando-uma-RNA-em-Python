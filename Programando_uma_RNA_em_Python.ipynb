{
  "nbformat": 4,
  "nbformat_minor": 0,
  "metadata": {
    "colab": {
      "provenance": [],
      "authorship_tag": "ABX9TyO02fC6ZA5QHLVsCAj//6hX",
      "include_colab_link": true
    },
    "kernelspec": {
      "name": "python3",
      "display_name": "Python 3"
    },
    "language_info": {
      "name": "python"
    }
  },
  "cells": [
    {
      "cell_type": "markdown",
      "metadata": {
        "id": "view-in-github",
        "colab_type": "text"
      },
      "source": [
        "<a href=\"https://colab.research.google.com/github/saraweiand/Programando-uma-RNA-em-Python/blob/main/Programando_uma_RNA_em_Python.ipynb\" target=\"_parent\"><img src=\"https://colab.research.google.com/assets/colab-badge.svg\" alt=\"Open In Colab\"/></a>"
      ]
    },
    {
      "cell_type": "markdown",
      "source": [
        "Criação da primeira RNA com python através da disciplina de Inteligência Artificial da minha faculdade de Engenharia de Software"
      ],
      "metadata": {
        "id": "Elk5jyannIDz"
      }
    },
    {
      "cell_type": "code",
      "source": [],
      "metadata": {
        "id": "Jdnr2-JknTzr"
      },
      "execution_count": null,
      "outputs": []
    }
  ]
}